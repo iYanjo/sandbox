{
  "nbformat": 4,
  "nbformat_minor": 0,
  "metadata": {
    "colab": {
      "provenance": [],
      "authorship_tag": "ABX9TyOV9dfTWcNZ089SVQ/ctSi1",
      "include_colab_link": true
    },
    "kernelspec": {
      "name": "python3",
      "display_name": "Python 3"
    },
    "language_info": {
      "name": "python"
    }
  },
  "cells": [
    {
      "cell_type": "markdown",
      "metadata": {
        "id": "view-in-github",
        "colab_type": "text"
      },
      "source": [
        "<a href=\"https://colab.research.google.com/github/iYanjo/sandbox/blob/main/sandbox.ipynb\" target=\"_parent\"><img src=\"https://colab.research.google.com/assets/colab-badge.svg\" alt=\"Open In Colab\"/></a>"
      ]
    },
    {
      "cell_type": "code",
      "execution_count": null,
      "metadata": {
        "id": "opcCrtNhTmDC"
      },
      "outputs": [],
      "source": [
        "import threading\n",
        "import time\n",
        "import urllib.request\n"
      ]
    },
    {
      "cell_type": "code",
      "source": [
        "def download_file(url, filename):\n",
        "    print(f\"\\nDownloading {filename} from {url}...\")\n",
        "    urllib.request.urlretrieve(url, filename)\n",
        "    print(f\"\\n{filename} downloaded successfully.\")\n"
      ],
      "metadata": {
        "id": "sgKYKQ0uawF4"
      },
      "execution_count": null,
      "outputs": []
    },
    {
      "cell_type": "code",
      "source": [
        "from IPython.utils.path import target_outdated\n",
        "# Create a list of files to download\n",
        "files_to_download = [\n",
        "    {\"url\": \"https://en.wikipedia.org/wiki/British_logistics_in_the_Normandy_campaign\", \"filename\": \"i:\\wfile1\"},\n",
        "    {\"url\": \"https://en.wikipedia.org/wiki/Graph_(abstract_data_type)\", \"filename\": \"i:\\Graph_abstract_data_type\"},\n",
        "    {\"url\": \"https://example.com/\", \"filename\": \"i:\\example\"}\n",
        "]\n",
        "\n",
        "threads = []\n",
        "for file in files_to_download:\n",
        "  threads.append(threading.Thread(\n",
        "      target=download_file,\n",
        "      args=(file[\"url\"], file[\"filename\"])\n",
        "  ))\n",
        "  threads[-1].start()\n",
        "\n",
        "for thread in threads:\n",
        "  thread.join()"
      ],
      "metadata": {
        "colab": {
          "base_uri": "https://localhost:8080/"
        },
        "id": "aM_4L-N4T8Rc",
        "outputId": "622ca54a-10e7-44ad-8b16-c9054d36e697"
      },
      "execution_count": null,
      "outputs": [
        {
          "output_type": "stream",
          "name": "stdout",
          "text": [
            "\n",
            "Downloading i:\\wfile1 from https://en.wikipedia.org/wiki/British_logistics_in_the_Normandy_campaign...\n",
            "\n",
            "Downloading i:\\Graph_abstract_data_type from https://en.wikipedia.org/wiki/Graph_(abstract_data_type)...\n",
            "\n",
            "Downloading i:\\example from https://example.com/...\n",
            "\n",
            "i:\\Graph_abstract_data_type downloaded successfully.\n",
            "\n",
            "i:\\example downloaded successfully.\n",
            "\n",
            "i:\\wfile1 downloaded successfully.\n"
          ]
        }
      ]
    },
    {
      "cell_type": "code",
      "source": [
        "def printEvens():\n",
        "  for i in range(30, 51, 2):\n",
        "    print(i)\n",
        "\n",
        "def printOdds():\n",
        "  for i in range(31, 51, 2):\n",
        "    print(i)\n",
        "\n",
        "t1 = threading.Thread(\n",
        "    target=printEvens\n",
        ")\n",
        "t2 = threading.Thread(\n",
        "    target=printOdds\n",
        ")\n",
        "t1.start()\n",
        "t2.start()\n",
        "t1.join()\n",
        "t2.join()\n",
        "# printEvens()\n",
        "# printOdds()"
      ],
      "metadata": {
        "colab": {
          "base_uri": "https://localhost:8080/"
        },
        "id": "H_Ln-9ygbowz",
        "outputId": "8eb622e8-ef6a-4636-846e-01b673ecd699"
      },
      "execution_count": null,
      "outputs": [
        {
          "output_type": "stream",
          "name": "stdout",
          "text": [
            "3031\n",
            "33\n",
            "35\n",
            "37\n",
            "39\n",
            "41\n",
            "43\n",
            "45\n",
            "47\n",
            "49\n",
            "\n",
            "32\n",
            "34\n",
            "36\n",
            "38\n",
            "40\n",
            "42\n",
            "44\n",
            "46\n",
            "48\n",
            "50\n"
          ]
        }
      ]
    }
  ]
}