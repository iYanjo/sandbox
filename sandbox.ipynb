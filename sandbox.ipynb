{
  "nbformat": 4,
  "nbformat_minor": 0,
  "metadata": {
    "colab": {
      "provenance": [],
      "authorship_tag": "ABX9TyM6T2JYBX+2wwLWzp0Zi8RP",
      "include_colab_link": true
    },
    "kernelspec": {
      "name": "python3",
      "display_name": "Python 3"
    },
    "language_info": {
      "name": "python"
    }
  },
  "cells": [
    {
      "cell_type": "markdown",
      "metadata": {
        "id": "view-in-github",
        "colab_type": "text"
      },
      "source": [
        "<a href=\"https://colab.research.google.com/github/iYanjo/sandbox/blob/main/sandbox.ipynb\" target=\"_parent\"><img src=\"https://colab.research.google.com/assets/colab-badge.svg\" alt=\"Open In Colab\"/></a>"
      ]
    },
    {
      "cell_type": "code",
      "execution_count": 1,
      "metadata": {
        "id": "opcCrtNhTmDC"
      },
      "outputs": [],
      "source": [
        "import threading\n",
        "import time\n",
        "import urllib.request\n"
      ]
    },
    {
      "cell_type": "code",
      "source": [
        "def downloadFile(url, filename):\n",
        "    print(f\"\\nDownloading {filename} from {url}...\")\n",
        "    urllib.request.urlretrieve(url, filename)\n",
        "    print(f\"\\n{filename} downloaded successfully.\")\n"
      ],
      "metadata": {
        "id": "sgKYKQ0uawF4"
      },
      "execution_count": 2,
      "outputs": []
    },
    {
      "cell_type": "code",
      "source": [
        "from IPython.utils.path import target_outdated\n",
        "# Create a list of files to download\n",
        "filesToDownload = [\n",
        "    {\"url\": \"https://en.wikipedia.org/wiki/British_logistics_in_the_Normandy_campaign\", \"filename\": \"i:\\wfile1\"},\n",
        "    {\"url\": \"https://en.wikipedia.org/wiki/Graph_(abstract_data_type)\", \"filename\": \"i:\\Graph_abstract_data_type\"},\n",
        "    {\"url\": \"https://example.com/\", \"filename\": \"i:\\example\"}\n",
        "]\n",
        "\n",
        "threads = []\n",
        "for file in filesToDownload:\n",
        "  threads.append(threading.Thread(\n",
        "      target=downloadFile,\n",
        "      args=(file[\"url\"], file[\"filename\"])\n",
        "  ))\n",
        "  threads[-1].start()\n",
        "for thread in threads:\n",
        "  thread.join()\n"
      ],
      "metadata": {
        "colab": {
          "base_uri": "https://localhost:8080/"
        },
        "id": "aM_4L-N4T8Rc",
        "outputId": "e7c117a2-8126-4689-940a-dd630caeac20"
      },
      "execution_count": 3,
      "outputs": [
        {
          "output_type": "stream",
          "name": "stdout",
          "text": [
            "\n",
            "Downloading i:\\wfile1 from https://en.wikipedia.org/wiki/British_logistics_in_the_Normandy_campaign...\n",
            "\n",
            "Downloading i:\\Graph_abstract_data_type from https://en.wikipedia.org/wiki/Graph_(abstract_data_type)...\n",
            "\n",
            "Downloading i:\\example from https://example.com/...\n",
            "\n",
            "i:\\example downloaded successfully.\n",
            "\n",
            "i:\\Graph_abstract_data_type downloaded successfully.\n",
            "\n",
            "i:\\wfile1 downloaded successfully.\n"
          ]
        }
      ]
    },
    {
      "cell_type": "code",
      "source": [
        "def printEvens():\n",
        "  for i in range(30, 151, 2):\n",
        "    print(i)\n",
        "\n",
        "def printOdds():\n",
        "  for i in range(31, 151, 2):\n",
        "    print(i)\n",
        "\n",
        "t1 = threading.Thread(\n",
        "    target=printEvens\n",
        ")\n",
        "t2 = threading.Thread(\n",
        "    target=printOdds\n",
        ")\n",
        "t1.start()\n",
        "t2.start()\n",
        "t1.join()\n",
        "t2.join()\n",
        "# printEvens()\n",
        "# printOdds()"
      ],
      "metadata": {
        "colab": {
          "base_uri": "https://localhost:8080/"
        },
        "id": "H_Ln-9ygbowz",
        "outputId": "c874754e-75eb-4a41-c62a-04bdc8c281b8"
      },
      "execution_count": 10,
      "outputs": [
        {
          "output_type": "stream",
          "name": "stdout",
          "text": [
            "30\n",
            "32\n",
            "34\n",
            "36\n",
            "38\n",
            "40\n",
            "42\n",
            "3144\n",
            "33\n",
            "35\n",
            "37\n",
            "39\n",
            "41\n",
            "43\n",
            "46\n",
            "45\n",
            "47\n",
            "49\n",
            "51\n",
            "53\n",
            "55\n",
            "57\n",
            "59\n",
            "61\n",
            "63\n",
            "65\n",
            "67\n",
            "69\n",
            "71\n",
            "73\n",
            "75\n",
            "77\n",
            "79\n",
            "81\n",
            "83\n",
            "85\n",
            "87\n",
            "89\n",
            "91\n",
            "93\n",
            "95\n",
            "97\n",
            "99\n",
            "101\n",
            "103\n",
            "105\n",
            "107\n",
            "109\n",
            "111\n",
            "113\n",
            "115\n",
            "117\n",
            "119\n",
            "121\n",
            "123\n",
            "125\n",
            "127\n",
            "129\n",
            "\n",
            "131\n",
            "133\n",
            "135\n",
            "137\n",
            "139\n",
            "141\n",
            "48\n",
            "50143\n",
            "145\n",
            "147\n",
            "149\n",
            "\n",
            "52\n",
            "54\n",
            "56\n",
            "58\n",
            "60\n",
            "62\n",
            "64\n",
            "66\n",
            "68\n",
            "70\n",
            "72\n",
            "74\n",
            "76\n",
            "78\n",
            "80\n",
            "82\n",
            "84\n",
            "86\n",
            "88\n",
            "90\n",
            "92\n",
            "94\n",
            "96\n",
            "98\n",
            "100\n",
            "102\n",
            "104\n",
            "106\n",
            "108\n",
            "110\n",
            "112\n",
            "114\n",
            "116\n",
            "118\n",
            "120\n",
            "122\n",
            "124\n",
            "126\n",
            "128\n",
            "130\n",
            "132\n",
            "134\n",
            "136\n",
            "138\n",
            "140\n",
            "142\n",
            "144\n",
            "146\n",
            "148\n",
            "150\n"
          ]
        }
      ]
    }
  ]
}